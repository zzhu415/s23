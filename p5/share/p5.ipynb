{
 "cells": [
  {
   "cell_type": "markdown",
   "id": "3f7e7ce2-a799-4940-bcbd-9b5b57823c3e",
   "metadata": {},
   "source": [
    "<h1> Part 1"
   ]
  },
  {
   "cell_type": "markdown",
   "id": "bf040d62-f3d3-491c-b1b4-483859a93a61",
   "metadata": {},
   "source": [
    "<h2> connecting to the Cassandra cluster"
   ]
  },
  {
   "cell_type": "code",
   "execution_count": 1,
   "id": "8c2c3fac-3634-47d1-b298-05f41831e4f2",
   "metadata": {},
   "outputs": [],
   "source": [
    "from cassandra.cluster import Cluster\n",
    "try:\n",
    "    cluster = Cluster(['p5-db-1', 'p5-db-2', 'p5-db-3'])\n",
    "    cass = cluster.connect()\n",
    "except Exception as e:\n",
    "    print(e)"
   ]
  },
  {
   "cell_type": "markdown",
   "id": "dc622807-ce88-401a-ad1a-f5ff94646aab",
   "metadata": {},
   "source": [
    "<h2> create weather station"
   ]
  },
  {
   "cell_type": "code",
   "execution_count": 2,
   "id": "634b034b-3aca-49c2-a562-f5b77f2a2f0e",
   "metadata": {},
   "outputs": [],
   "source": [
    "try:  \n",
    "    cass.execute(\"drop keyspace if exists weather\")\n",
    "    cass.execute(\"create keyspace weather with replication={'class':'SimpleStrategy', 'replication_factor':3}\")\n",
    "    cass.execute(\"create type weather.station_record (tmin int, tmax int)\")\n",
    "    cass.execute(\"create table weather.stations (id text, date date, name text static, record weather.station_record, PRIMARY KEY(id, date))\")\n",
    "except Exception as e:\n",
    "    print(e)"
   ]
  },
  {
   "cell_type": "code",
   "execution_count": 3,
   "id": "f321161a-2c98-45e9-922a-0c4071e31839",
   "metadata": {},
   "outputs": [
    {
     "name": "stdout",
     "output_type": "stream",
     "text": [
      "CREATE KEYSPACE weather WITH replication = {'class': 'SimpleStrategy', 'replication_factor': '3'}  AND durable_writes = true;\n",
      "CREATE TABLE weather.stations (\n",
      "    id text,\n",
      "    date date,\n",
      "    name text static,\n",
      "    record station_record,\n",
      "    PRIMARY KEY (id, date)\n",
      ") WITH CLUSTERING ORDER BY (date ASC)\n",
      "    AND additional_write_policy = '99p'\n",
      "    AND bloom_filter_fp_chance = 0.01\n",
      "    AND caching = {'keys': 'ALL', 'rows_per_partition': 'NONE'}\n",
      "    AND cdc = false\n",
      "    AND comment = ''\n",
      "    AND compaction = {'class': 'org.apache.cassandra.db.compaction.SizeTieredCompactionStrategy', 'max_threshold': '32', 'min_threshold': '4'}\n",
      "    AND compression = {'chunk_length_in_kb': '16', 'class': 'org.apache.cassandra.io.compress.LZ4Compressor'}\n",
      "    AND crc_check_chance = 1.0\n",
      "    AND default_time_to_live = 0\n",
      "    AND extensions = {}\n",
      "    AND gc_grace_seconds = 864000\n",
      "    AND max_index_interval = 2048\n",
      "    AND memtable_flush_period_in_ms = 0\n",
      "    AND min_index_interval = 128\n",
      "    AND read_repair = 'BLOCKING'\n",
      "    AND speculative_retry = '99p';\n"
     ]
    }
   ],
   "source": [
    "# Q1: what is the schema?\n",
    "print(cass.execute(\"describe keyspace weather\").one().create_statement)\n",
    "print(cass.execute(\"describe table weather.stations\").one().create_statement)"
   ]
  },
  {
   "cell_type": "markdown",
   "id": "8c332b4d-1709-4a31-a337-6605d65d8009",
   "metadata": {},
   "source": [
    "<h2> Spark session"
   ]
  },
  {
   "cell_type": "code",
   "execution_count": 4,
   "id": "c0fb1dd5-4cfa-4365-9296-82abae7e1b5f",
   "metadata": {},
   "outputs": [
    {
     "name": "stdout",
     "output_type": "stream",
     "text": [
      "  % Total    % Received % Xferd  Average Speed   Time    Time     Time  Current\n",
      "                                 Dload  Upload   Total   Spent    Left  Speed\n",
      "100 10.1M  100 10.1M    0     0  7699k      0  0:00:01  0:00:01 --:--:-- 7701k\n"
     ]
    }
   ],
   "source": [
    "!curl https://pages.cs.wisc.edu/~harter/cs639/data/ghcnd-stations.txt -o ghcnd-stations.txt"
   ]
  },
  {
   "cell_type": "code",
   "execution_count": 4,
   "id": "79facde8-ed6a-4f39-8963-3531b433302e",
   "metadata": {},
   "outputs": [
    {
     "name": "stdout",
     "output_type": "stream",
     "text": [
      ":: loading settings :: url = jar:file:/usr/local/lib/python3.10/dist-packages/pyspark/jars/ivy-2.5.0.jar!/org/apache/ivy/core/settings/ivysettings.xml\n"
     ]
    },
    {
     "name": "stderr",
     "output_type": "stream",
     "text": [
      "Ivy Default Cache set to: /root/.ivy2/cache\n",
      "The jars for the packages stored in: /root/.ivy2/jars\n",
      "com.datastax.spark#spark-cassandra-connector_2.12 added as a dependency\n",
      ":: resolving dependencies :: org.apache.spark#spark-submit-parent-fb53294c-e7f5-472e-880b-5fb3781748c5;1.0\n",
      "\tconfs: [default]\n",
      "\tfound com.datastax.spark#spark-cassandra-connector_2.12;3.2.0 in central\n",
      "\tfound com.datastax.spark#spark-cassandra-connector-driver_2.12;3.2.0 in central\n",
      "\tfound com.datastax.oss#java-driver-core-shaded;4.13.0 in central\n",
      "\tfound com.datastax.oss#native-protocol;1.5.0 in central\n",
      "\tfound com.datastax.oss#java-driver-shaded-guava;25.1-jre-graal-sub-1 in central\n",
      "\tfound com.typesafe#config;1.4.1 in central\n",
      "\tfound org.slf4j#slf4j-api;1.7.26 in central\n",
      "\tfound io.dropwizard.metrics#metrics-core;4.1.18 in central\n",
      "\tfound org.hdrhistogram#HdrHistogram;2.1.12 in central\n",
      "\tfound org.reactivestreams#reactive-streams;1.0.3 in central\n",
      "\tfound com.github.stephenc.jcip#jcip-annotations;1.0-1 in central\n",
      "\tfound com.github.spotbugs#spotbugs-annotations;3.1.12 in central\n",
      "\tfound com.google.code.findbugs#jsr305;3.0.2 in central\n",
      "\tfound com.datastax.oss#java-driver-mapper-runtime;4.13.0 in central\n",
      "\tfound com.datastax.oss#java-driver-query-builder;4.13.0 in central\n",
      "\tfound org.apache.commons#commons-lang3;3.10 in central\n",
      "\tfound com.thoughtworks.paranamer#paranamer;2.8 in central\n",
      "\tfound org.scala-lang#scala-reflect;2.12.11 in central\n",
      "downloading https://repo1.maven.org/maven2/com/datastax/spark/spark-cassandra-connector_2.12/3.2.0/spark-cassandra-connector_2.12-3.2.0.jar ...\n",
      "\t[SUCCESSFUL ] com.datastax.spark#spark-cassandra-connector_2.12;3.2.0!spark-cassandra-connector_2.12.jar (139ms)\n",
      "downloading https://repo1.maven.org/maven2/com/datastax/spark/spark-cassandra-connector-driver_2.12/3.2.0/spark-cassandra-connector-driver_2.12-3.2.0.jar ...\n",
      "\t[SUCCESSFUL ] com.datastax.spark#spark-cassandra-connector-driver_2.12;3.2.0!spark-cassandra-connector-driver_2.12.jar (77ms)\n",
      "downloading https://repo1.maven.org/maven2/com/datastax/oss/java-driver-core-shaded/4.13.0/java-driver-core-shaded-4.13.0.jar ...\n",
      "\t[SUCCESSFUL ] com.datastax.oss#java-driver-core-shaded;4.13.0!java-driver-core-shaded.jar (339ms)\n",
      "downloading https://repo1.maven.org/maven2/com/datastax/oss/java-driver-mapper-runtime/4.13.0/java-driver-mapper-runtime-4.13.0.jar ...\n",
      "\t[SUCCESSFUL ] com.datastax.oss#java-driver-mapper-runtime;4.13.0!java-driver-mapper-runtime.jar(bundle) (20ms)\n",
      "downloading https://repo1.maven.org/maven2/org/apache/commons/commons-lang3/3.10/commons-lang3-3.10.jar ...\n",
      "\t[SUCCESSFUL ] org.apache.commons#commons-lang3;3.10!commons-lang3.jar (45ms)\n",
      "downloading https://repo1.maven.org/maven2/com/thoughtworks/paranamer/paranamer/2.8/paranamer-2.8.jar ...\n",
      "\t[SUCCESSFUL ] com.thoughtworks.paranamer#paranamer;2.8!paranamer.jar(bundle) (17ms)\n",
      "downloading https://repo1.maven.org/maven2/org/scala-lang/scala-reflect/2.12.11/scala-reflect-2.12.11.jar ...\n",
      "\t[SUCCESSFUL ] org.scala-lang#scala-reflect;2.12.11!scala-reflect.jar (140ms)\n",
      "downloading https://repo1.maven.org/maven2/com/datastax/oss/native-protocol/1.5.0/native-protocol-1.5.0.jar ...\n",
      "\t[SUCCESSFUL ] com.datastax.oss#native-protocol;1.5.0!native-protocol.jar(bundle) (25ms)\n",
      "downloading https://repo1.maven.org/maven2/com/datastax/oss/java-driver-shaded-guava/25.1-jre-graal-sub-1/java-driver-shaded-guava-25.1-jre-graal-sub-1.jar ...\n",
      "\t[SUCCESSFUL ] com.datastax.oss#java-driver-shaded-guava;25.1-jre-graal-sub-1!java-driver-shaded-guava.jar (57ms)\n",
      "downloading https://repo1.maven.org/maven2/com/typesafe/config/1.4.1/config-1.4.1.jar ...\n",
      "\t[SUCCESSFUL ] com.typesafe#config;1.4.1!config.jar(bundle) (19ms)\n",
      "downloading https://repo1.maven.org/maven2/org/slf4j/slf4j-api/1.7.26/slf4j-api-1.7.26.jar ...\n",
      "\t[SUCCESSFUL ] org.slf4j#slf4j-api;1.7.26!slf4j-api.jar (16ms)\n",
      "downloading https://repo1.maven.org/maven2/io/dropwizard/metrics/metrics-core/4.1.18/metrics-core-4.1.18.jar ...\n",
      "\t[SUCCESSFUL ] io.dropwizard.metrics#metrics-core;4.1.18!metrics-core.jar(bundle) (19ms)\n",
      "downloading https://repo1.maven.org/maven2/org/hdrhistogram/HdrHistogram/2.1.12/HdrHistogram-2.1.12.jar ...\n",
      "\t[SUCCESSFUL ] org.hdrhistogram#HdrHistogram;2.1.12!HdrHistogram.jar(bundle) (17ms)\n",
      "downloading https://repo1.maven.org/maven2/org/reactivestreams/reactive-streams/1.0.3/reactive-streams-1.0.3.jar ...\n",
      "\t[SUCCESSFUL ] org.reactivestreams#reactive-streams;1.0.3!reactive-streams.jar (16ms)\n",
      "downloading https://repo1.maven.org/maven2/com/github/stephenc/jcip/jcip-annotations/1.0-1/jcip-annotations-1.0-1.jar ...\n",
      "\t[SUCCESSFUL ] com.github.stephenc.jcip#jcip-annotations;1.0-1!jcip-annotations.jar (15ms)\n",
      "downloading https://repo1.maven.org/maven2/com/github/spotbugs/spotbugs-annotations/3.1.12/spotbugs-annotations-3.1.12.jar ...\n",
      "\t[SUCCESSFUL ] com.github.spotbugs#spotbugs-annotations;3.1.12!spotbugs-annotations.jar (16ms)\n",
      "downloading https://repo1.maven.org/maven2/com/google/code/findbugs/jsr305/3.0.2/jsr305-3.0.2.jar ...\n",
      "\t[SUCCESSFUL ] com.google.code.findbugs#jsr305;3.0.2!jsr305.jar (14ms)\n",
      "downloading https://repo1.maven.org/maven2/com/datastax/oss/java-driver-query-builder/4.13.0/java-driver-query-builder-4.13.0.jar ...\n",
      "\t[SUCCESSFUL ] com.datastax.oss#java-driver-query-builder;4.13.0!java-driver-query-builder.jar(bundle) (19ms)\n",
      ":: resolution report :: resolve 6847ms :: artifacts dl 1060ms\n",
      "\t:: modules in use:\n",
      "\tcom.datastax.oss#java-driver-core-shaded;4.13.0 from central in [default]\n",
      "\tcom.datastax.oss#java-driver-mapper-runtime;4.13.0 from central in [default]\n",
      "\tcom.datastax.oss#java-driver-query-builder;4.13.0 from central in [default]\n",
      "\tcom.datastax.oss#java-driver-shaded-guava;25.1-jre-graal-sub-1 from central in [default]\n",
      "\tcom.datastax.oss#native-protocol;1.5.0 from central in [default]\n",
      "\tcom.datastax.spark#spark-cassandra-connector-driver_2.12;3.2.0 from central in [default]\n",
      "\tcom.datastax.spark#spark-cassandra-connector_2.12;3.2.0 from central in [default]\n",
      "\tcom.github.spotbugs#spotbugs-annotations;3.1.12 from central in [default]\n",
      "\tcom.github.stephenc.jcip#jcip-annotations;1.0-1 from central in [default]\n",
      "\tcom.google.code.findbugs#jsr305;3.0.2 from central in [default]\n",
      "\tcom.thoughtworks.paranamer#paranamer;2.8 from central in [default]\n",
      "\tcom.typesafe#config;1.4.1 from central in [default]\n",
      "\tio.dropwizard.metrics#metrics-core;4.1.18 from central in [default]\n",
      "\torg.apache.commons#commons-lang3;3.10 from central in [default]\n",
      "\torg.hdrhistogram#HdrHistogram;2.1.12 from central in [default]\n",
      "\torg.reactivestreams#reactive-streams;1.0.3 from central in [default]\n",
      "\torg.scala-lang#scala-reflect;2.12.11 from central in [default]\n",
      "\torg.slf4j#slf4j-api;1.7.26 from central in [default]\n",
      "\t---------------------------------------------------------------------\n",
      "\t|                  |            modules            ||   artifacts   |\n",
      "\t|       conf       | number| search|dwnlded|evicted|| number|dwnlded|\n",
      "\t---------------------------------------------------------------------\n",
      "\t|      default     |   18  |   18  |   18  |   0   ||   18  |   18  |\n",
      "\t---------------------------------------------------------------------\n",
      ":: retrieving :: org.apache.spark#spark-submit-parent-fb53294c-e7f5-472e-880b-5fb3781748c5\n",
      "\tconfs: [default]\n",
      "\t18 artifacts copied, 0 already retrieved (18065kB/126ms)\n",
      "23/03/22 19:44:43 WARN NativeCodeLoader: Unable to load native-hadoop library for your platform... using builtin-java classes where applicable\n",
      "Using Spark's default log4j profile: org/apache/spark/log4j-defaults.properties\n",
      "Setting default log level to \"WARN\".\n",
      "To adjust logging level use sc.setLogLevel(newLevel). For SparkR, use setLogLevel(newLevel).\n"
     ]
    }
   ],
   "source": [
    "from pyspark.sql import SparkSession\n",
    "spark = (SparkSession.builder\n",
    "         .appName(\"p5\")\n",
    "         .config('spark.jars.packages', 'com.datastax.spark:spark-cassandra-connector_2.12:3.2.0')\n",
    "         .config(\"spark.sql.extensions\", \"com.datastax.spark.connector.CassandraSparkExtensions\")\n",
    "         .getOrCreate())"
   ]
  },
  {
   "cell_type": "code",
   "execution_count": 5,
   "id": "4e39e0f2-776c-47ac-8891-4f5669a351b6",
   "metadata": {},
   "outputs": [
    {
     "name": "stderr",
     "output_type": "stream",
     "text": [
      "[Stage 0:>                                                          (0 + 1) / 1]\r"
     ]
    },
    {
     "name": "stdout",
     "output_type": "stream",
     "text": [
      "+-----------+-------+--------+---------+-----+--------------------+\n",
      "|         id|    lat|     lon|elevation|state|                name|\n",
      "+-----------+-------+--------+---------+-----+--------------------+\n",
      "|ACW00011604|17.1167|-61.7833|     10.1|     |ST JOHNS COOLIDGE...|\n",
      "|ACW00011647|17.1333|-61.7833|     19.2|     |            ST JOHNS|\n",
      "|AE000041196|25.3330| 55.5170|     34.0|     | SHARJAH INTER. AIRP|\n",
      "|AEM00041194|25.2550| 55.3640|     10.4|     |          DUBAI INTL|\n",
      "|AEM00041217|24.4330| 54.6510|     26.8|     |      ABU DHABI INTL|\n",
      "|AEM00041218|24.2620| 55.6090|    264.9|     |         AL AIN INTL|\n",
      "|AF000040930|35.3170| 69.0170|   3366.0|     |        NORTH-SALANG|\n",
      "|AFM00040938|34.2100| 62.2280|    977.2|     |               HERAT|\n",
      "|AFM00040948|34.5660| 69.2120|   1791.3|     |          KABUL INTL|\n",
      "|AFM00040990|31.5000| 65.8500|   1010.0|     |    KANDAHAR AIRPORT|\n",
      "|AG000060390|36.7167|  3.2500|     24.0|     |  ALGER-DAR EL BEIDA|\n",
      "|AG000060590|30.5667|  2.8667|    397.0|     |            EL-GOLEA|\n",
      "|AG000060611|28.0500|  9.6331|    561.0|     |           IN-AMENAS|\n",
      "|AG000060680|22.8000|  5.4331|   1362.0|     |         TAMANRASSET|\n",
      "|AGE00135039|35.7297|  0.6500|     50.0|     |ORAN-HOPITAL MILI...|\n",
      "|AGE00147704|36.9700|  7.7900|    161.0|     | ANNABA-CAP DE GARDE|\n",
      "|AGE00147705|36.7800|  3.0700|     59.0|     |ALGIERS-VILLE/UNI...|\n",
      "|AGE00147706|36.8000|  3.0300|    344.0|     |   ALGIERS-BOUZAREAH|\n",
      "|AGE00147707|36.8000|  3.0400|     38.0|     |  ALGIERS-CAP CAXINE|\n",
      "|AGE00147708|36.7200|  4.0500|    222.0|     |          TIZI OUZOU|\n",
      "+-----------+-------+--------+---------+-----+--------------------+\n",
      "only showing top 20 rows\n",
      "\n"
     ]
    },
    {
     "name": "stderr",
     "output_type": "stream",
     "text": [
      "                                                                                \r"
     ]
    }
   ],
   "source": [
    "from pyspark.sql import SparkSession\n",
    "from pyspark.sql.functions import col, trim, expr, udf\n",
    "df = spark.read.text(\"ghcnd-stations.txt\")\n",
    "df = df.select(\n",
    "    trim(col(\"value\").substr(0, 11)).alias(\"id\"),\n",
    "    trim(col(\"value\").substr(13, 8)).alias(\"lat\"),\n",
    "    trim(col(\"value\").substr(22, 9)).alias(\"lon\"),\n",
    "    trim(col(\"value\").substr(32, 6)).alias(\"elevation\"),\n",
    "    trim(col(\"value\").substr(39, 2)).alias(\"state\"),\n",
    "    trim(col(\"value\").substr(42, 30)).alias(\"name\"),\n",
    ")\n",
    "df.show()"
   ]
  },
  {
   "cell_type": "code",
   "execution_count": 6,
   "id": "93cd299d-c441-4d90-aaf2-98766f021cdc",
   "metadata": {},
   "outputs": [
    {
     "name": "stderr",
     "output_type": "stream",
     "text": [
      "                                                                                \r"
     ]
    }
   ],
   "source": [
    "query = cass.prepare(\"INSERT INTO weather.stations (id, name) VALUES (?, ?)\")\n",
    "for row in df.filter(\"state = 'WI'\").select(\"id\", \"name\").collect():\n",
    "    cass.execute(query, row)"
   ]
  },
  {
   "cell_type": "code",
   "execution_count": 7,
   "id": "3759c8a6-264d-44cc-8b21-f477d677a533",
   "metadata": {},
   "outputs": [
    {
     "name": "stdout",
     "output_type": "stream",
     "text": [
      "-9014250178872933741\n"
     ]
    },
    {
     "data": {
      "text/plain": [
       "Row(t=-9014250178872933741, id='USC00470273', name='UW ARBORETUM - MADISON')"
      ]
     },
     "execution_count": 7,
     "metadata": {},
     "output_type": "execute_result"
    }
   ],
   "source": [
    "row = cass.execute(\"SELECT token(id) as t, id, name FROM weather.stations WHERE id='USC00470273'\").one()\n",
    "token = row.t\n",
    "print(token) # token of Arboretum sensor\n",
    "row"
   ]
  },
  {
   "cell_type": "code",
   "execution_count": 8,
   "id": "4bd15309-e7a2-4ad7-b2fa-2b23237fcca9",
   "metadata": {},
   "outputs": [],
   "source": [
    "from subprocess import check_output\n",
    "ring = str(check_output([\"/apache-cassandra-4.0.7/bin/nodetool\", \"ring\"]), \"utf-8\")\n",
    "rows = [line.split() for line in ring.split(\"\\n\") if \"rack1\" in line]"
   ]
  },
  {
   "cell_type": "code",
   "execution_count": 9,
   "id": "441476db-ff13-4e02-bc12-ed1864641103",
   "metadata": {},
   "outputs": [
    {
     "name": "stdout",
     "output_type": "stream",
     "text": [
      "\n",
      "Datacenter: datacenter1\n",
      "==========\n",
      "Address          Rack        Status State   Load            Owns                Token                                       \n",
      "                                                                                9219042714646091609                         \n",
      "172.18.0.3       rack1       Up     Normal  86.51 KiB       100.00%             -8499653143662990515                        \n",
      "172.18.0.4       rack1       Up     Normal  86.53 KiB       100.00%             -8307063176518901934                        \n",
      "172.18.0.3       rack1       Up     Normal  86.51 KiB       100.00%             -7532288900584455016                        \n",
      "172.18.0.2       rack1       Up     Normal  86.52 KiB       100.00%             -7449067058239872878                        \n",
      "172.18.0.4       rack1       Up     Normal  86.53 KiB       100.00%             -7289211771776474918                        \n",
      "172.18.0.4       rack1       Up     Normal  86.53 KiB       100.00%             -6471539839164124124                        \n",
      "172.18.0.2       rack1       Up     Normal  86.52 KiB       100.00%             -6353025158004934589                        \n",
      "172.18.0.3       rack1       Up     Normal  86.51 KiB       100.00%             -5942284348070556378                        \n",
      "172.18.0.4       rack1       Up     Normal  86.53 KiB       100.00%             -5395783957938544584                        \n",
      "172.18.0.2       rack1       Up     Normal  86.52 KiB       100.00%             -5261728047312722329                        \n",
      "172.18.0.4       rack1       Up     Normal  86.53 KiB       100.00%             -4659868265227650943                        \n",
      "172.18.0.2       rack1       Up     Normal  86.52 KiB       100.00%             -4417351399821560572                        \n",
      "172.18.0.3       rack1       Up     Normal  86.51 KiB       100.00%             -4323261052373513080                        \n",
      "172.18.0.4       rack1       Up     Normal  86.53 KiB       100.00%             -3580495457780049286                        \n",
      "172.18.0.3       rack1       Up     Normal  86.51 KiB       100.00%             -3345115599857399005                        \n",
      "172.18.0.2       rack1       Up     Normal  86.52 KiB       100.00%             -2977083169918977332                        \n",
      "172.18.0.4       rack1       Up     Normal  86.53 KiB       100.00%             -2336975452099457312                        \n",
      "172.18.0.2       rack1       Up     Normal  86.52 KiB       100.00%             -1905582553578944520                        \n",
      "172.18.0.3       rack1       Up     Normal  86.51 KiB       100.00%             -1566481299033811876                        \n",
      "172.18.0.4       rack1       Up     Normal  86.53 KiB       100.00%             -1369611209020921814                        \n",
      "172.18.0.2       rack1       Up     Normal  86.52 KiB       100.00%             -887731148836517504                         \n",
      "172.18.0.3       rack1       Up     Normal  86.51 KiB       100.00%             -470439398798873587                         \n",
      "172.18.0.2       rack1       Up     Normal  86.52 KiB       100.00%             -70059216224166710                          \n",
      "172.18.0.4       rack1       Up     Normal  86.53 KiB       100.00%             220393343492976823                          \n",
      "172.18.0.3       rack1       Up     Normal  86.51 KiB       100.00%             620857711893338672                          \n",
      "172.18.0.2       rack1       Up     Normal  86.52 KiB       100.00%             1005696665001412828                         \n",
      "172.18.0.3       rack1       Up     Normal  86.51 KiB       100.00%             1465234359384500429                         \n",
      "172.18.0.2       rack1       Up     Normal  86.52 KiB       100.00%             1741612357712306469                         \n",
      "172.18.0.4       rack1       Up     Normal  86.53 KiB       100.00%             1839416639190020120                         \n",
      "172.18.0.4       rack1       Up     Normal  86.53 KiB       100.00%             2817562091706134196                         \n",
      "172.18.0.2       rack1       Up     Normal  86.52 KiB       100.00%             2820985165159908127                         \n",
      "172.18.0.3       rack1       Up     Normal  86.51 KiB       100.00%             2905502589287083667                         \n",
      "172.18.0.3       rack1       Up     Normal  86.51 KiB       100.00%             3977003205627116480                         \n",
      "172.18.0.2       rack1       Up     Normal  86.52 KiB       100.00%             4064505170840500099                         \n",
      "172.18.0.4       rack1       Up     Normal  86.53 KiB       100.00%             4596196392529721324                         \n",
      "172.18.0.3       rack1       Up     Normal  86.51 KiB       100.00%             4994854610369543495                         \n",
      "172.18.0.2       rack1       Up     Normal  86.52 KiB       100.00%             5031869413919035598                         \n",
      "172.18.0.4       rack1       Up     Normal  86.53 KiB       100.00%             5692238292764659613                         \n",
      "172.18.0.3       rack1       Up     Normal  86.51 KiB       100.00%             5812526542981894290                         \n",
      "172.18.0.2       rack1       Up     Normal  86.52 KiB       100.00%             6621873966432934236                         \n",
      "172.18.0.4       rack1       Up     Normal  86.53 KiB       100.00%             6783535403456871872                         \n",
      "172.18.0.3       rack1       Up     Normal  86.51 KiB       100.00%             6888282424207473829                         \n",
      "172.18.0.3       rack1       Up     Normal  86.51 KiB       100.00%             7624198116918367470                         \n",
      "172.18.0.4       rack1       Up     Normal  86.53 KiB       100.00%             7627912050948033630                         \n",
      "172.18.0.2       rack1       Up     Normal  86.52 KiB       100.00%             8240897262129977533                         \n",
      "172.18.0.3       rack1       Up     Normal  86.51 KiB       100.00%             8703570924365969128                         \n",
      "172.18.0.4       rack1       Up     Normal  86.53 KiB       100.00%             9068180280850616868                         \n",
      "172.18.0.2       rack1       Up     Normal  86.52 KiB       100.00%             9219042714646091609                         \n",
      "\n",
      "  Warning: \"nodetool ring\" is used to output all the tokens of a node.\n",
      "  To view status related info of a node use \"nodetool status\" instead.\n",
      "\n",
      "\n",
      "  \n"
     ]
    }
   ],
   "source": [
    "print(ring)"
   ]
  },
  {
   "cell_type": "code",
   "execution_count": 10,
   "id": "83fbb817-5a9e-4d39-9059-4ec4cf137da7",
   "metadata": {},
   "outputs": [
    {
     "name": "stdout",
     "output_type": "stream",
     "text": [
      "48\n"
     ]
    }
   ],
   "source": [
    "print(len(rows))"
   ]
  },
  {
   "cell_type": "code",
   "execution_count": 10,
   "id": "66bc2530-7a4f-4df7-a5f7-3d791aee84de",
   "metadata": {},
   "outputs": [
    {
     "name": "stdout",
     "output_type": "stream",
     "text": [
      "row token:   -9014250178872933741\n",
      "vnode token: -9139938639333111539\n"
     ]
    }
   ],
   "source": [
    "# Q2: what is the token of the vnode that comes first after the partition for the USC00470273 sensor?\n",
    "# vnode = rows[0][-1]\n",
    "for i, row in enumerate(rows):\n",
    "    if token > int(row[-1]):\n",
    "        vtoken = rows[(i+1) % len(rows)][-1]\n",
    "        break\n",
    "print(\"row token:  \", token)\n",
    "print(\"vnode token:\", vtoken)"
   ]
  },
  {
   "cell_type": "markdown",
   "id": "e9fa400f-e299-44f4-ac7a-e616cf71b67b",
   "metadata": {},
   "source": [
    "<h1> Part 2"
   ]
  },
  {
   "cell_type": "code",
   "execution_count": 42,
   "id": "e5cd4d53-821e-4faa-a820-4b83788c6e89",
   "metadata": {},
   "outputs": [],
   "source": [
    "!python3 -m grpc_tools.protoc -I=. --python_out=. --grpc_python_out=. station.proto"
   ]
  },
  {
   "cell_type": "code",
   "execution_count": 45,
   "id": "7692d96e-be5e-4dda-a2fd-8979fc77ea30",
   "metadata": {},
   "outputs": [
    {
     "name": "stdout",
     "output_type": "stream",
     "text": [
      "--2023-03-22 05:23:48--  https://pages.cs.wisc.edu/~harter/cs639/data/wi-stations.zip\n",
      "Resolving pages.cs.wisc.edu (pages.cs.wisc.edu)... 128.105.7.9\n",
      "Connecting to pages.cs.wisc.edu (pages.cs.wisc.edu)|128.105.7.9|:443... connected.\n",
      "HTTP request sent, awaiting response... 200 OK\n",
      "Length: 133113222 (127M) [application/zip]\n",
      "Saving to: ‘wi-stations.zip’\n",
      "\n",
      "wi-stations.zip     100%[===================>] 126.95M  14.0MB/s    in 9.5s    \n",
      "\n",
      "2023-03-22 05:23:57 (13.3 MB/s) - ‘wi-stations.zip’ saved [133113222/133113222]\n",
      "\n"
     ]
    }
   ],
   "source": [
    "!wget https://pages.cs.wisc.edu/~harter/cs639/data/wi-stations.zip"
   ]
  },
  {
   "cell_type": "code",
   "execution_count": 17,
   "id": "09b07223-0358-4ad1-bdaf-b96f7f332b15",
   "metadata": {},
   "outputs": [],
   "source": [
    "import station_pb2_grpc, station_pb2, grpc\n",
    "channel = grpc.insecure_channel('p5-db-1:5440')\n",
    "stub = station_pb2_grpc.StationStub(channel)"
   ]
  },
  {
   "cell_type": "code",
   "execution_count": 18,
   "id": "d42e662b-6d5d-4847-be2c-40da2677c2bd",
   "metadata": {},
   "outputs": [
    {
     "name": "stderr",
     "output_type": "stream",
     "text": [
      "                                                                                \r"
     ]
    },
    {
     "name": "stdout",
     "output_type": "stream",
     "text": [
      "max temp for USW00014837 is 356\n",
      "max temp for USR0000WDDG is 344\n"
     ]
    },
    {
     "name": "stderr",
     "output_type": "stream",
     "text": [
      "                                                                                \r"
     ]
    },
    {
     "name": "stdout",
     "output_type": "stream",
     "text": [
      "max temp for USW00014898 is 356\n"
     ]
    },
    {
     "name": "stderr",
     "output_type": "stream",
     "text": [
      "                                                                                \r"
     ]
    },
    {
     "name": "stdout",
     "output_type": "stream",
     "text": [
      "max temp for USW00014839 is 378\n"
     ]
    }
   ],
   "source": [
    "def simulate_sensor(station):\n",
    "    df = spark.read.csv(f\"stations/{station}.csv.gz\", schema=\"station string, date string, element string, value float\")\n",
    "    rows = (df.where(\"date between '20220101' and '20221231'\")\n",
    "            .groupby([\"station\", \"date\"])\n",
    "            .pivot(\"element\", [\"TMIN\", \"TMAX\"])\n",
    "            .agg(expr(\"first(value)\"))\n",
    "            .sort(\"date\")).collect()\n",
    "    for row in rows:\n",
    "        date = f\"{row.date[0:4]}-{row.date[4:6]}-{row.date[6:8]}\"\n",
    "        r = stub.RecordTemps(station_pb2.RecordTempsRequest(station=station, date=date, tmin=int(row.TMIN), tmax=int(row.TMAX)))\n",
    "        if r.error:\n",
    "            print(r.error)\n",
    "\n",
    "for station in [\"USW00014837\", \"USR0000WDDG\", \"USW00014898\", \"USW00014839\"]:\n",
    "    simulate_sensor(station)\n",
    "    r = stub.StationMax(station_pb2.StationMaxRequest(station=station))\n",
    "    if r.error:\n",
    "        print(r.error)\n",
    "    else:\n",
    "        print(f\"max temp for {station} is {r.tmax}\")"
   ]
  },
  {
   "cell_type": "markdown",
   "id": "f42e9fd5-11e2-4f60-a38d-86ed9e07e134",
   "metadata": {},
   "source": [
    "<h1> Part 3"
   ]
  },
  {
   "cell_type": "code",
   "execution_count": 19,
   "id": "30f09e56-f027-4773-9206-93046301f83f",
   "metadata": {},
   "outputs": [
    {
     "name": "stderr",
     "output_type": "stream",
     "text": [
      "                                                                                \r"
     ]
    },
    {
     "data": {
      "text/plain": [
       "DataFrame[]"
      ]
     },
     "execution_count": 19,
     "metadata": {},
     "output_type": "execute_result"
    }
   ],
   "source": [
    "spark.conf.set(\"spark.sql.catalog.cassandra\", \"com.datastax.spark.connector.datasource.CassandraCatalog\")\n",
    "spark.conf.set(\"spark.sql.catalog.cassandra.spark.cassandra.connection.host\", \"p5-db-1:9042\")\n",
    "spark.sql(\"CREATE OR REPLACE VIEW weather2022 AS (SELECT * FROM cassandra.weather.stations WHERE date BETWEEN '2022-01-01' AND '2022-12-31')\")\n",
    "spark.sql(\"CACHE TABLE weather2022\")"
   ]
  },
  {
   "cell_type": "code",
   "execution_count": 20,
   "id": "28f56f2f-8600-46c2-99ef-fa25ebdd629d",
   "metadata": {},
   "outputs": [
    {
     "data": {
      "text/plain": [
       "<function __main__.<lambda>(x)>"
      ]
     },
     "execution_count": 20,
     "metadata": {},
     "output_type": "execute_result"
    }
   ],
   "source": [
    "spark.udf.register(\"fahrenheit\", lambda x: x/10*(9/5) + 32, \"float\")"
   ]
  },
  {
   "cell_type": "code",
   "execution_count": 21,
   "id": "d97128f7-f4c3-43f8-a9e5-f0f756d49d68",
   "metadata": {},
   "outputs": [
    {
     "name": "stderr",
     "output_type": "stream",
     "text": [
      "                                                                                \r"
     ]
    },
    {
     "data": {
      "text/plain": [
       "Text(0, 0.5, 'Daily Temp (Fahrenheit)')"
      ]
     },
     "execution_count": 21,
     "metadata": {},
     "output_type": "execute_result"
    },
    {
     "data": {
      "image/png": "[encoded data removed]",
      "text/plain": [
       "<Figure size 640x480 with 1 Axes>"
      ]
     },
     "metadata": {},
     "output_type": "display_data"
    }
   ],
   "source": [
    "# Q3: what were the daily highs and lows at Madison's airport in 2022?\n",
    "df = spark.sql(\"SELECT date, fahrenheit(record.tmin) as low, fahrenheit(record.tmax) as high FROM weather2022 WHERE id = 'USW00014837'\").toPandas()\n",
    "ax = df.set_index(\"date\").plot.line()\n",
    "ax.set_ylabel(\"Daily Temp (Fahrenheit)\")"
   ]
  },
  {
   "cell_type": "code",
   "execution_count": 22,
   "id": "9262f23d-4a00-4b5c-a8f1-a3c4c2d32e96",
   "metadata": {},
   "outputs": [
    {
     "data": {
      "text/plain": [
       "[Row(c=0.9786907979650685)]"
      ]
     },
     "execution_count": 22,
     "metadata": {},
     "output_type": "execute_result"
    }
   ],
   "source": [
    "# Q4: what is the correlation between weather in Madison and Milwaukee?\n",
    "from pyspark.sql.functions import corr\n",
    "left = spark.table(\"weather2022\").where(\"id = 'USW00014837'\").select(\"date\", col(\"record.tmax\").alias(\"Madison\"))\n",
    "right = spark.table(\"weather2022\").where(\"id = 'USW00014839'\").select(\"date\", col(\"record.tmax\").alias(\"Milwaukee\"))\n",
    "left.join(right,\"date\").agg(corr(\"Madison\", \"Milwaukee\").alias('c')).collect()"
   ]
  },
  {
   "cell_type": "markdown",
   "id": "7618874e-4bd3-4c4a-b563-c93c9d673f33",
   "metadata": {},
   "source": [
    "<h1> Part 4\n"
   ]
  },
  {
   "cell_type": "code",
   "execution_count": 24,
   "id": "5ac97ac2-d852-48c1-9485-69e4fb2566b6",
   "metadata": {},
   "outputs": [
    {
     "ename": "_InactiveRpcError",
     "evalue": "<_InactiveRpcError of RPC that terminated with:\n\tstatus = StatusCode.UNKNOWN\n\tdetails = \"Exception calling application: Error from server: code=1200 [Coordinator node timed out waiting for replica nodes' responses] message=\"Operation timed out - received only 2 responses.\" info={'consistency': 'THREE', 'required_responses': 3, 'received_responses': 2}\"\n\tdebug_error_string = \"UNKNOWN:Error received from peer ipv4:172.18.0.4:5440 {created_time:\"2023-03-22T07:02:31.050419662+00:00\", grpc_status:2, grpc_message:\"Exception calling application: Error from server: code=1200 [Coordinator node timed out waiting for replica nodes\\' responses] message=\\\"Operation timed out - received only 2 responses.\\\" info={\\'consistency\\': \\'THREE\\', \\'required_responses\\': 3, \\'received_responses\\': 2}\"}\"\n>",
     "output_type": "error",
     "traceback": [
      "\u001b[0;31m---------------------------------------------------------------------------\u001b[0m",
      "\u001b[0;31m_InactiveRpcError\u001b[0m                         Traceback (most recent call last)",
      "Cell \u001b[0;32mIn[24], line 4\u001b[0m\n\u001b[1;32m      2\u001b[0m channel \u001b[38;5;241m=\u001b[39m grpc\u001b[38;5;241m.\u001b[39minsecure_channel(\u001b[38;5;124m'\u001b[39m\u001b[38;5;124mp5-db-1:5440\u001b[39m\u001b[38;5;124m'\u001b[39m)\n\u001b[1;32m      3\u001b[0m stub \u001b[38;5;241m=\u001b[39m station_pb2_grpc\u001b[38;5;241m.\u001b[39mStationStub(channel)\n\u001b[0;32m----> 4\u001b[0m r \u001b[38;5;241m=\u001b[39m \u001b[43mstub\u001b[49m\u001b[38;5;241;43m.\u001b[39;49m\u001b[43mStationMax\u001b[49m\u001b[43m(\u001b[49m\u001b[43mstation_pb2\u001b[49m\u001b[38;5;241;43m.\u001b[39;49m\u001b[43mStationMaxRequest\u001b[49m\u001b[43m(\u001b[49m\u001b[43mstation\u001b[49m\u001b[38;5;241;43m=\u001b[39;49m\u001b[38;5;124;43m\"\u001b[39;49m\u001b[38;5;124;43mUSW00014837\u001b[39;49m\u001b[38;5;124;43m\"\u001b[39;49m\u001b[43m)\u001b[49m\u001b[43m)\u001b[49m\n\u001b[1;32m      5\u001b[0m \u001b[38;5;28mprint\u001b[39m(r)\n",
      "File \u001b[0;32m/usr/local/lib/python3.10/dist-packages/grpc/_channel.py:946\u001b[0m, in \u001b[0;36m_UnaryUnaryMultiCallable.__call__\u001b[0;34m(self, request, timeout, metadata, credentials, wait_for_ready, compression)\u001b[0m\n\u001b[1;32m    937\u001b[0m \u001b[38;5;28;01mdef\u001b[39;00m \u001b[38;5;21m__call__\u001b[39m(\u001b[38;5;28mself\u001b[39m,\n\u001b[1;32m    938\u001b[0m              request,\n\u001b[1;32m    939\u001b[0m              timeout\u001b[38;5;241m=\u001b[39m\u001b[38;5;28;01mNone\u001b[39;00m,\n\u001b[0;32m   (...)\u001b[0m\n\u001b[1;32m    942\u001b[0m              wait_for_ready\u001b[38;5;241m=\u001b[39m\u001b[38;5;28;01mNone\u001b[39;00m,\n\u001b[1;32m    943\u001b[0m              compression\u001b[38;5;241m=\u001b[39m\u001b[38;5;28;01mNone\u001b[39;00m):\n\u001b[1;32m    944\u001b[0m     state, call, \u001b[38;5;241m=\u001b[39m \u001b[38;5;28mself\u001b[39m\u001b[38;5;241m.\u001b[39m_blocking(request, timeout, metadata, credentials,\n\u001b[1;32m    945\u001b[0m                                   wait_for_ready, compression)\n\u001b[0;32m--> 946\u001b[0m     \u001b[38;5;28;01mreturn\u001b[39;00m \u001b[43m_end_unary_response_blocking\u001b[49m\u001b[43m(\u001b[49m\u001b[43mstate\u001b[49m\u001b[43m,\u001b[49m\u001b[43m \u001b[49m\u001b[43mcall\u001b[49m\u001b[43m,\u001b[49m\u001b[43m \u001b[49m\u001b[38;5;28;43;01mFalse\u001b[39;49;00m\u001b[43m,\u001b[49m\u001b[43m \u001b[49m\u001b[38;5;28;43;01mNone\u001b[39;49;00m\u001b[43m)\u001b[49m\n",
      "File \u001b[0;32m/usr/local/lib/python3.10/dist-packages/grpc/_channel.py:849\u001b[0m, in \u001b[0;36m_end_unary_response_blocking\u001b[0;34m(state, call, with_call, deadline)\u001b[0m\n\u001b[1;32m    847\u001b[0m         \u001b[38;5;28;01mreturn\u001b[39;00m state\u001b[38;5;241m.\u001b[39mresponse\n\u001b[1;32m    848\u001b[0m \u001b[38;5;28;01melse\u001b[39;00m:\n\u001b[0;32m--> 849\u001b[0m     \u001b[38;5;28;01mraise\u001b[39;00m _InactiveRpcError(state)\n",
      "\u001b[0;31m_InactiveRpcError\u001b[0m: <_InactiveRpcError of RPC that terminated with:\n\tstatus = StatusCode.UNKNOWN\n\tdetails = \"Exception calling application: Error from server: code=1200 [Coordinator node timed out waiting for replica nodes' responses] message=\"Operation timed out - received only 2 responses.\" info={'consistency': 'THREE', 'required_responses': 3, 'received_responses': 2}\"\n\tdebug_error_string = \"UNKNOWN:Error received from peer ipv4:172.18.0.4:5440 {created_time:\"2023-03-22T07:02:31.050419662+00:00\", grpc_status:2, grpc_message:\"Exception calling application: Error from server: code=1200 [Coordinator node timed out waiting for replica nodes\\' responses] message=\\\"Operation timed out - received only 2 responses.\\\" info={\\'consistency\\': \\'THREE\\', \\'required_responses\\': 3, \\'received_responses\\': 2}\"}\"\n>"
     ]
    },
    {
     "name": "stderr",
     "output_type": "stream",
     "text": [
      "23/03/22 07:02:32 WARN ChannelPool: [s0|/172.18.0.3:9042]  Error while opening new channel (ConnectionInitException: [s0|connecting...] Protocol initialization request, step 1 (STARTUP {CQL_VERSION=3.0.0, DRIVER_NAME=DataStax Java driver for Apache Cassandra(R), DRIVER_VERSION=4.13.0, CLIENT_ID=6ba885e7-24fc-471f-8336-73019108f0bf, APPLICATION_NAME=Spark-Cassandra-Connector-local-1679467874387}): failed to send request (java.nio.channels.NotYetConnectedException))\n",
      "23/03/22 07:02:44 WARN ChannelPool: [s0|/172.18.0.3:9042]  Error while opening new channel (ConnectionInitException: [s0|connecting...] Protocol initialization request, step 1 (STARTUP {CQL_VERSION=3.0.0, DRIVER_NAME=DataStax Java driver for Apache Cassandra(R), DRIVER_VERSION=4.13.0, CLIENT_ID=6ba885e7-24fc-471f-8336-73019108f0bf, APPLICATION_NAME=Spark-Cassandra-Connector-local-1679467874387}): failed to send request (java.nio.channels.NotYetConnectedException))\n",
      "23/03/22 07:03:01 WARN ChannelPool: [s0|/172.18.0.3:9042]  Error while opening new channel (ConnectionInitException: [s0|connecting...] Protocol initialization request, step 1 (STARTUP {CQL_VERSION=3.0.0, DRIVER_NAME=DataStax Java driver for Apache Cassandra(R), DRIVER_VERSION=4.13.0, CLIENT_ID=6ba885e7-24fc-471f-8336-73019108f0bf, APPLICATION_NAME=Spark-Cassandra-Connector-local-1679467874387}): failed to send request (com.datastax.oss.driver.shaded.netty.channel.StacklessClosedChannelException))\n",
      "23/03/22 07:03:36 WARN ChannelPool: [s0|/172.18.0.3:9042]  Error while opening new channel (ConnectionInitException: [s0|connecting...] Protocol initialization request, step 1 (STARTUP {CQL_VERSION=3.0.0, DRIVER_NAME=DataStax Java driver for Apache Cassandra(R), DRIVER_VERSION=4.13.0, CLIENT_ID=6ba885e7-24fc-471f-8336-73019108f0bf, APPLICATION_NAME=Spark-Cassandra-Connector-local-1679467874387}): failed to send request (com.datastax.oss.driver.shaded.netty.channel.StacklessClosedChannelException))\n"
     ]
    }
   ],
   "source": [
    "# Q5: does StationMax still work?\n",
    "channel = grpc.insecure_channel('p5-db-1:5440')\n",
    "stub = station_pb2_grpc.StationStub(channel)\n",
    "r = stub.StationMax(station_pb2.StationMaxRequest(station=\"USW00014837\"))\n",
    "print(r)"
   ]
  },
  {
   "cell_type": "code",
   "execution_count": 62,
   "id": "bb6c947f-627d-40bd-9598-c4711dcb6e48",
   "metadata": {},
   "outputs": [
    {
     "name": "stderr",
     "output_type": "stream",
     "text": [
      "23/03/22 06:29:27 WARN ChannelPool: [s0|/172.18.0.3:9042]  Error while opening new channel (ConnectionInitException: [s0|connecting...] Protocol initialization request, step 1 (STARTUP {CQL_VERSION=3.0.0, DRIVER_NAME=DataStax Java driver for Apache Cassandra(R), DRIVER_VERSION=4.13.0, CLIENT_ID=d8a98a81-1c49-4a56-aa60-541f666a231f, APPLICATION_NAME=Spark-Cassandra-Connector-local-1679422387326}): failed to send request (com.datastax.oss.driver.shaded.netty.channel.StacklessClosedChannelException))\n",
      "WARNING:cassandra.pool:Error attempting to reconnect to 172.18.0.3:9042, scheduling retry in 135.68 seconds: [Errno 113] Tried connecting to [('172.18.0.3', 9042)]. Last error: No route to host\n"
     ]
    }
   ],
   "source": [
    "# Q6: does simulate_sensor still work?\n",
    "simulate_sensor(\"USC00477115\")"
   ]
  },
  {
   "cell_type": "code",
   "execution_count": 63,
   "id": "37ef1a51-85f8-4307-8d39-abe7adca3cb0",
   "metadata": {},
   "outputs": [
    {
     "name": "stdout",
     "output_type": "stream",
     "text": [
      "BEFORE REFRESH: 1460\n",
      "AFTER REFRESH: 1825\n"
     ]
    },
    {
     "name": "stderr",
     "output_type": "stream",
     "text": [
      "23/03/22 06:30:21 WARN ChannelPool: [s0|/172.18.0.3:9042]  Error while opening new channel (ConnectionInitException: [s0|connecting...] Protocol initialization request, step 1 (STARTUP {CQL_VERSION=3.0.0, DRIVER_NAME=DataStax Java driver for Apache Cassandra(R), DRIVER_VERSION=4.13.0, CLIENT_ID=d8a98a81-1c49-4a56-aa60-541f666a231f, APPLICATION_NAME=Spark-Cassandra-Connector-local-1679422387326}): failed to send request (com.datastax.oss.driver.shaded.netty.channel.StacklessClosedChannelException))\n",
      "23/03/22 06:31:21 WARN ChannelPool: [s0|/172.18.0.3:9042]  Error while opening new channel (ConnectionInitException: [s0|connecting...] Protocol initialization request, step 1 (STARTUP {CQL_VERSION=3.0.0, DRIVER_NAME=DataStax Java driver for Apache Cassandra(R), DRIVER_VERSION=4.13.0, CLIENT_ID=d8a98a81-1c49-4a56-aa60-541f666a231f, APPLICATION_NAME=Spark-Cassandra-Connector-local-1679422387326}): failed to send request (com.datastax.oss.driver.shaded.netty.channel.StacklessClosedChannelException))\n",
      "WARNING:cassandra.pool:Error attempting to reconnect to 172.18.0.3:9042, scheduling retry in 256.0 seconds: [Errno 113] Tried connecting to [('172.18.0.3', 9042)]. Last error: No route to host\n",
      "23/03/22 06:32:22 WARN ChannelPool: [s0|/172.18.0.3:9042]  Error while opening new channel (ConnectionInitException: [s0|connecting...] Protocol initialization request, step 1 (STARTUP {CQL_VERSION=3.0.0, DRIVER_NAME=DataStax Java driver for Apache Cassandra(R), DRIVER_VERSION=4.13.0, CLIENT_ID=d8a98a81-1c49-4a56-aa60-541f666a231f, APPLICATION_NAME=Spark-Cassandra-Connector-local-1679422387326}): failed to send request (com.datastax.oss.driver.shaded.netty.channel.StacklessClosedChannelException))\n",
      "23/03/22 06:33:22 WARN ChannelPool: [s0|/172.18.0.3:9042]  Error while opening new channel (ConnectionInitException: [s0|connecting...] Protocol initialization request, step 1 (STARTUP {CQL_VERSION=3.0.0, DRIVER_NAME=DataStax Java driver for Apache Cassandra(R), DRIVER_VERSION=4.13.0, CLIENT_ID=d8a98a81-1c49-4a56-aa60-541f666a231f, APPLICATION_NAME=Spark-Cassandra-Connector-local-1679422387326}): failed to send request (com.datastax.oss.driver.shaded.netty.channel.StacklessClosedChannelException))\n",
      "23/03/22 06:34:25 WARN ChannelPool: [s0|/172.18.0.3:9042]  Error while opening new channel (ConnectionInitException: [s0|connecting...] Protocol initialization request, step 1 (STARTUP {CQL_VERSION=3.0.0, DRIVER_NAME=DataStax Java driver for Apache Cassandra(R), DRIVER_VERSION=4.13.0, CLIENT_ID=d8a98a81-1c49-4a56-aa60-541f666a231f, APPLICATION_NAME=Spark-Cassandra-Connector-local-1679422387326}): failed to send request (com.datastax.oss.driver.shaded.netty.channel.StacklessClosedChannelException))\n",
      "23/03/22 06:35:17 WARN ChannelPool: [s0|/172.18.0.3:9042]  Error while opening new channel (ConnectionInitException: [s0|connecting...] Protocol initialization request, step 1 (STARTUP {CQL_VERSION=3.0.0, DRIVER_NAME=DataStax Java driver for Apache Cassandra(R), DRIVER_VERSION=4.13.0, CLIENT_ID=d8a98a81-1c49-4a56-aa60-541f666a231f, APPLICATION_NAME=Spark-Cassandra-Connector-local-1679422387326}): failed to send request (com.datastax.oss.driver.shaded.netty.channel.StacklessClosedChannelException))\n",
      "23/03/22 06:36:18 WARN ChannelPool: [s0|/172.18.0.3:9042]  Error while opening new channel (ConnectionInitException: [s0|connecting...] Protocol initialization request, step 1 (STARTUP {CQL_VERSION=3.0.0, DRIVER_NAME=DataStax Java driver for Apache Cassandra(R), DRIVER_VERSION=4.13.0, CLIENT_ID=d8a98a81-1c49-4a56-aa60-541f666a231f, APPLICATION_NAME=Spark-Cassandra-Connector-local-1679422387326}): failed to send request (com.datastax.oss.driver.shaded.netty.channel.StacklessClosedChannelException))\n",
      "WARNING:cassandra.pool:Error attempting to reconnect to 172.18.0.3:9042, scheduling retry in 486.4 seconds: [Errno 113] Tried connecting to [('172.18.0.3', 9042)]. Last error: No route to host\n",
      "23/03/22 06:37:21 WARN ChannelPool: [s0|/172.18.0.3:9042]  Error while opening new channel (ConnectionInitException: [s0|connecting...] Protocol initialization request, step 1 (STARTUP {CQL_VERSION=3.0.0, DRIVER_NAME=DataStax Java driver for Apache Cassandra(R), DRIVER_VERSION=4.13.0, CLIENT_ID=d8a98a81-1c49-4a56-aa60-541f666a231f, APPLICATION_NAME=Spark-Cassandra-Connector-local-1679422387326}): failed to send request (com.datastax.oss.driver.shaded.netty.channel.StacklessClosedChannelException))\n",
      "23/03/22 06:38:16 WARN ChannelPool: [s0|/172.18.0.3:9042]  Error while opening new channel (ConnectionInitException: [s0|connecting...] Protocol initialization request, step 1 (STARTUP {CQL_VERSION=3.0.0, DRIVER_NAME=DataStax Java driver for Apache Cassandra(R), DRIVER_VERSION=4.13.0, CLIENT_ID=d8a98a81-1c49-4a56-aa60-541f666a231f, APPLICATION_NAME=Spark-Cassandra-Connector-local-1679422387326}): failed to send request (com.datastax.oss.driver.shaded.netty.channel.StacklessClosedChannelException))\n",
      "23/03/22 06:39:19 WARN ChannelPool: [s0|/172.18.0.3:9042]  Error while opening new channel (ConnectionInitException: [s0|connecting...] Protocol initialization request, step 1 (STARTUP {CQL_VERSION=3.0.0, DRIVER_NAME=DataStax Java driver for Apache Cassandra(R), DRIVER_VERSION=4.13.0, CLIENT_ID=d8a98a81-1c49-4a56-aa60-541f666a231f, APPLICATION_NAME=Spark-Cassandra-Connector-local-1679422387326}): failed to send request (com.datastax.oss.driver.shaded.netty.channel.StacklessClosedChannelException))\n",
      "23/03/22 06:40:23 WARN ChannelPool: [s0|/172.18.0.3:9042]  Error while opening new channel (ConnectionInitException: [s0|connecting...] Protocol initialization request, step 1 (STARTUP {CQL_VERSION=3.0.0, DRIVER_NAME=DataStax Java driver for Apache Cassandra(R), DRIVER_VERSION=4.13.0, CLIENT_ID=d8a98a81-1c49-4a56-aa60-541f666a231f, APPLICATION_NAME=Spark-Cassandra-Connector-local-1679422387326}): failed to send request (com.datastax.oss.driver.shaded.netty.channel.StacklessClosedChannelException))\n",
      "23/03/22 06:41:18 WARN ChannelPool: [s0|/172.18.0.3:9042]  Error while opening new channel (ConnectionInitException: [s0|connecting...] Protocol initialization request, step 1 (STARTUP {CQL_VERSION=3.0.0, DRIVER_NAME=DataStax Java driver for Apache Cassandra(R), DRIVER_VERSION=4.13.0, CLIENT_ID=d8a98a81-1c49-4a56-aa60-541f666a231f, APPLICATION_NAME=Spark-Cassandra-Connector-local-1679422387326}): failed to send request (com.datastax.oss.driver.shaded.netty.channel.StacklessClosedChannelException))\n",
      "23/03/22 06:42:21 WARN ChannelPool: [s0|/172.18.0.3:9042]  Error while opening new channel (ConnectionInitException: [s0|connecting...] Protocol initialization request, step 1 (STARTUP {CQL_VERSION=3.0.0, DRIVER_NAME=DataStax Java driver for Apache Cassandra(R), DRIVER_VERSION=4.13.0, CLIENT_ID=d8a98a81-1c49-4a56-aa60-541f666a231f, APPLICATION_NAME=Spark-Cassandra-Connector-local-1679422387326}): failed to send request (com.datastax.oss.driver.shaded.netty.channel.StacklessClosedChannelException))\n",
      "23/03/22 06:43:13 WARN ChannelPool: [s0|/172.18.0.3:9042]  Error while opening new channel (ConnectionInitException: [s0|connecting...] Protocol initialization request, step 1 (STARTUP {CQL_VERSION=3.0.0, DRIVER_NAME=DataStax Java driver for Apache Cassandra(R), DRIVER_VERSION=4.13.0, CLIENT_ID=d8a98a81-1c49-4a56-aa60-541f666a231f, APPLICATION_NAME=Spark-Cassandra-Connector-local-1679422387326}): failed to send request (com.datastax.oss.driver.shaded.netty.channel.StacklessClosedChannelException))\n",
      "23/03/22 06:44:16 WARN ChannelPool: [s0|/172.18.0.3:9042]  Error while opening new channel (ConnectionInitException: [s0|connecting...] Protocol initialization request, step 1 (STARTUP {CQL_VERSION=3.0.0, DRIVER_NAME=DataStax Java driver for Apache Cassandra(R), DRIVER_VERSION=4.13.0, CLIENT_ID=d8a98a81-1c49-4a56-aa60-541f666a231f, APPLICATION_NAME=Spark-Cassandra-Connector-local-1679422387326}): failed to send request (com.datastax.oss.driver.shaded.netty.channel.StacklessClosedChannelException))\n",
      "WARNING:cassandra.pool:Error attempting to reconnect to 172.18.0.3:9042, scheduling retry in 600.0 seconds: [Errno 113] Tried connecting to [('172.18.0.3', 9042)]. Last error: No route to host\n"
     ]
    }
   ],
   "source": [
    "# Q7: how does refreshing the stale cache change the number of rows in weather2022?\n",
    "print(\"BEFORE REFRESH:\", spark.table(\"weather2022\").count())\n",
    "spark.sql(\"REFRESH TABLE weather2022\")\n",
    "print(\"AFTER REFRESH:\", spark.table(\"weather2022\").count())"
   ]
  },
  {
   "cell_type": "code",
   "execution_count": null,
   "id": "5b949726-d4cb-41e7-b271-701fcdcfdfda",
   "metadata": {},
   "outputs": [],
   "source": []
  }
 ],
 "metadata": {
  "kernelspec": {
   "display_name": "Python 3 (ipykernel)",
   "language": "python",
   "name": "python3"
  },
  "language_info": {
   "codemirror_mode": {
    "name": "ipython",
    "version": 3
   },
   "file_extension": ".py",
   "mimetype": "text/x-python",
   "name": "python",
   "nbconvert_exporter": "python",
   "pygments_lexer": "ipython3",
   "version": "3.10.6"
  }
 },
 "nbformat": 4,
 "nbformat_minor": 5
}
