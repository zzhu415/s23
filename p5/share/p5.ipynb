{
 "cells": [
  {
   "cell_type": "markdown",
   "id": "47b5aeb3-dfa4-4167-9c2a-4b326852d254",
   "metadata": {},
   "source": [
    "<h2> connect to the cluster"
   ]
  },
  {
   "cell_type": "code",
   "execution_count": 1,
   "id": "6c2a2e04-e05b-4e1b-bbd3-ef5771917d88",
   "metadata": {},
   "outputs": [
    {
     "name": "stdout",
     "output_type": "stream",
     "text": [
      "('Unable to connect to any servers', {'172.18.0.2:9042': ConnectionRefusedError(111, \"Tried connecting to [('172.18.0.2', 9042)]. Last error: Connection refused\"), '172.18.0.3:9042': ConnectionRefusedError(111, \"Tried connecting to [('172.18.0.3', 9042)]. Last error: Connection refused\"), '172.18.0.4:9042': ConnectionRefusedError(111, \"Tried connecting to [('172.18.0.4', 9042)]. Last error: Connection refused\")})\n"
     ]
    }
   ],
   "source": [
    "from cassandra.cluster import Cluster\n",
    "try:\n",
    "    cluster = Cluster(['p5-db-1', 'p5-db-2', 'p5-db-3'])\n",
    "    session = cluster.connect()\n",
    "except Exception as e:\n",
    "    print(e)"
   ]
  },
  {
   "cell_type": "markdown",
   "id": "6263bb77-7924-41d4-88a9-19a8306a688f",
   "metadata": {},
   "source": [
    "<h2> create keyspace </h2>"
   ]
  },
  {
   "cell_type": "code",
   "execution_count": 14,
   "id": "6fbe1bd8-04d5-4b6d-baec-659642ea5d15",
   "metadata": {},
   "outputs": [
    {
     "name": "stdout",
     "output_type": "stream",
     "text": [
      "name 'session' is not defined\n"
     ]
    }
   ],
   "source": [
    "try:\n",
    "    session.execute(\"\"\"\n",
    "    CREATE KEYSPACE IF NOT EXIST weather\n",
    "    WITH REPLICATION = \n",
    "    {'class' : 'SimpleStrategy','replication_factor' : 3}\"\"\"\n",
    "    )\n",
    "except Exception as e:\n",
    "    print(e)"
   ]
  },
  {
   "cell_type": "code",
   "execution_count": null,
   "id": "9e3f9918-5b4c-46c6-945f-ce7298604db2",
   "metadata": {},
   "outputs": [],
   "source": []
  }
 ],
 "metadata": {
  "kernelspec": {
   "display_name": "Python 3 (ipykernel)",
   "language": "python",
   "name": "python3"
  },
  "language_info": {
   "codemirror_mode": {
    "name": "ipython",
    "version": 3
   },
   "file_extension": ".py",
   "mimetype": "text/x-python",
   "name": "python",
   "nbconvert_exporter": "python",
   "pygments_lexer": "ipython3",
   "version": "3.10.6"
  }
 },
 "nbformat": 4,
 "nbformat_minor": 5
}
